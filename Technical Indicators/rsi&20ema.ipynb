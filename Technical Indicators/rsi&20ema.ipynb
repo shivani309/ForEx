{
 "cells": [
  {
   "cell_type": "markdown",
   "metadata": {},
   "source": [
    "## RSI and 20 EMA Feature Creation "
   ]
  },
  {
   "cell_type": "code",
   "execution_count": 34,
   "metadata": {},
   "outputs": [],
   "source": [
    "import numpy as np\n",
    "\n",
    "import pandas as pd "
   ]
  },
  {
   "cell_type": "code",
   "execution_count": 39,
   "metadata": {},
   "outputs": [
    {
     "data": {
      "text/html": [
       "<div>\n",
       "<style scoped>\n",
       "    .dataframe tbody tr th:only-of-type {\n",
       "        vertical-align: middle;\n",
       "    }\n",
       "\n",
       "    .dataframe tbody tr th {\n",
       "        vertical-align: top;\n",
       "    }\n",
       "\n",
       "    .dataframe thead th {\n",
       "        text-align: right;\n",
       "    }\n",
       "</style>\n",
       "<table border=\"1\" class=\"dataframe\">\n",
       "  <thead>\n",
       "    <tr style=\"text-align: right;\">\n",
       "      <th></th>\n",
       "      <th>Date</th>\n",
       "      <th>Open_price</th>\n",
       "      <th>Day_high</th>\n",
       "      <th>Day_low</th>\n",
       "      <th>Closing_price</th>\n",
       "      <th>Currency Pair</th>\n",
       "    </tr>\n",
       "  </thead>\n",
       "  <tbody>\n",
       "    <tr>\n",
       "      <th>0</th>\n",
       "      <td>2014-11-07</td>\n",
       "      <td>61.390</td>\n",
       "      <td>61.620</td>\n",
       "      <td>61.340</td>\n",
       "      <td>61.400</td>\n",
       "      <td>USD/INR</td>\n",
       "    </tr>\n",
       "    <tr>\n",
       "      <th>1</th>\n",
       "      <td>2014-11-10</td>\n",
       "      <td>61.500</td>\n",
       "      <td>61.635</td>\n",
       "      <td>61.340</td>\n",
       "      <td>61.495</td>\n",
       "      <td>USD/INR</td>\n",
       "    </tr>\n",
       "    <tr>\n",
       "      <th>2</th>\n",
       "      <td>2014-11-11</td>\n",
       "      <td>61.530</td>\n",
       "      <td>61.555</td>\n",
       "      <td>61.505</td>\n",
       "      <td>61.508</td>\n",
       "      <td>USD/INR</td>\n",
       "    </tr>\n",
       "    <tr>\n",
       "      <th>3</th>\n",
       "      <td>2014-11-12</td>\n",
       "      <td>61.508</td>\n",
       "      <td>61.560</td>\n",
       "      <td>61.350</td>\n",
       "      <td>61.391</td>\n",
       "      <td>USD/INR</td>\n",
       "    </tr>\n",
       "    <tr>\n",
       "      <th>4</th>\n",
       "      <td>2014-11-13</td>\n",
       "      <td>61.368</td>\n",
       "      <td>61.623</td>\n",
       "      <td>61.350</td>\n",
       "      <td>61.565</td>\n",
       "      <td>USD/INR</td>\n",
       "    </tr>\n",
       "  </tbody>\n",
       "</table>\n",
       "</div>"
      ],
      "text/plain": [
       "         Date  Open_price  Day_high  Day_low  Closing_price Currency Pair\n",
       "0  2014-11-07      61.390    61.620   61.340         61.400       USD/INR\n",
       "1  2014-11-10      61.500    61.635   61.340         61.495       USD/INR\n",
       "2  2014-11-11      61.530    61.555   61.505         61.508       USD/INR\n",
       "3  2014-11-12      61.508    61.560   61.350         61.391       USD/INR\n",
       "4  2014-11-13      61.368    61.623   61.350         61.565       USD/INR"
      ]
     },
     "execution_count": 39,
     "metadata": {},
     "output_type": "execute_result"
    }
   ],
   "source": [
    "df = pd.read_csv(r'C:\\Users\\Sejal Hanmante\\OneDrive\\Documents\\GitHub\\ForEx\\all_data.csv')\n",
    "df.head()"
   ]
  },
  {
   "cell_type": "code",
   "execution_count": 40,
   "metadata": {},
   "outputs": [
    {
     "data": {
      "text/html": [
       "<div>\n",
       "<style scoped>\n",
       "    .dataframe tbody tr th:only-of-type {\n",
       "        vertical-align: middle;\n",
       "    }\n",
       "\n",
       "    .dataframe tbody tr th {\n",
       "        vertical-align: top;\n",
       "    }\n",
       "\n",
       "    .dataframe thead th {\n",
       "        text-align: right;\n",
       "    }\n",
       "</style>\n",
       "<table border=\"1\" class=\"dataframe\">\n",
       "  <thead>\n",
       "    <tr style=\"text-align: right;\">\n",
       "      <th></th>\n",
       "      <th>Date</th>\n",
       "      <th>Open_price</th>\n",
       "      <th>Day_high</th>\n",
       "      <th>Day_low</th>\n",
       "      <th>Closing_price</th>\n",
       "      <th>Currency Pair</th>\n",
       "    </tr>\n",
       "  </thead>\n",
       "  <tbody>\n",
       "    <tr>\n",
       "      <th>0</th>\n",
       "      <td>2014-11-07</td>\n",
       "      <td>61.390</td>\n",
       "      <td>61.620</td>\n",
       "      <td>61.340</td>\n",
       "      <td>61.4000</td>\n",
       "      <td>USD/INR</td>\n",
       "    </tr>\n",
       "    <tr>\n",
       "      <th>1</th>\n",
       "      <td>2014-11-10</td>\n",
       "      <td>61.500</td>\n",
       "      <td>61.635</td>\n",
       "      <td>61.340</td>\n",
       "      <td>61.4950</td>\n",
       "      <td>USD/INR</td>\n",
       "    </tr>\n",
       "    <tr>\n",
       "      <th>2</th>\n",
       "      <td>2014-11-11</td>\n",
       "      <td>61.530</td>\n",
       "      <td>61.555</td>\n",
       "      <td>61.505</td>\n",
       "      <td>61.5080</td>\n",
       "      <td>USD/INR</td>\n",
       "    </tr>\n",
       "    <tr>\n",
       "      <th>3</th>\n",
       "      <td>2014-11-12</td>\n",
       "      <td>61.508</td>\n",
       "      <td>61.560</td>\n",
       "      <td>61.350</td>\n",
       "      <td>61.3910</td>\n",
       "      <td>USD/INR</td>\n",
       "    </tr>\n",
       "    <tr>\n",
       "      <th>4</th>\n",
       "      <td>2014-11-13</td>\n",
       "      <td>61.368</td>\n",
       "      <td>61.623</td>\n",
       "      <td>61.350</td>\n",
       "      <td>61.5650</td>\n",
       "      <td>USD/INR</td>\n",
       "    </tr>\n",
       "    <tr>\n",
       "      <th>...</th>\n",
       "      <td>...</td>\n",
       "      <td>...</td>\n",
       "      <td>...</td>\n",
       "      <td>...</td>\n",
       "      <td>...</td>\n",
       "      <td>...</td>\n",
       "    </tr>\n",
       "    <tr>\n",
       "      <th>2598</th>\n",
       "      <td>2024-10-24</td>\n",
       "      <td>84.045</td>\n",
       "      <td>84.080</td>\n",
       "      <td>84.017</td>\n",
       "      <td>84.0640</td>\n",
       "      <td>USD/INR</td>\n",
       "    </tr>\n",
       "    <tr>\n",
       "      <th>2599</th>\n",
       "      <td>2024-10-25</td>\n",
       "      <td>84.067</td>\n",
       "      <td>84.080</td>\n",
       "      <td>84.021</td>\n",
       "      <td>84.0750</td>\n",
       "      <td>USD/INR</td>\n",
       "    </tr>\n",
       "    <tr>\n",
       "      <th>2600</th>\n",
       "      <td>2024-10-28</td>\n",
       "      <td>84.062</td>\n",
       "      <td>84.080</td>\n",
       "      <td>84.016</td>\n",
       "      <td>84.0400</td>\n",
       "      <td>USD/INR</td>\n",
       "    </tr>\n",
       "    <tr>\n",
       "      <th>2601</th>\n",
       "      <td>2024-10-29</td>\n",
       "      <td>84.045</td>\n",
       "      <td>84.080</td>\n",
       "      <td>83.996</td>\n",
       "      <td>84.0380</td>\n",
       "      <td>USD/INR</td>\n",
       "    </tr>\n",
       "    <tr>\n",
       "      <th>2602</th>\n",
       "      <td>2024-10-30</td>\n",
       "      <td>84.041</td>\n",
       "      <td>84.085</td>\n",
       "      <td>84.037</td>\n",
       "      <td>84.0825</td>\n",
       "      <td>USD/INR</td>\n",
       "    </tr>\n",
       "  </tbody>\n",
       "</table>\n",
       "<p>2603 rows × 6 columns</p>\n",
       "</div>"
      ],
      "text/plain": [
       "            Date  Open_price  Day_high  Day_low  Closing_price Currency Pair\n",
       "0     2014-11-07      61.390    61.620   61.340        61.4000       USD/INR\n",
       "1     2014-11-10      61.500    61.635   61.340        61.4950       USD/INR\n",
       "2     2014-11-11      61.530    61.555   61.505        61.5080       USD/INR\n",
       "3     2014-11-12      61.508    61.560   61.350        61.3910       USD/INR\n",
       "4     2014-11-13      61.368    61.623   61.350        61.5650       USD/INR\n",
       "...          ...         ...       ...      ...            ...           ...\n",
       "2598  2024-10-24      84.045    84.080   84.017        84.0640       USD/INR\n",
       "2599  2024-10-25      84.067    84.080   84.021        84.0750       USD/INR\n",
       "2600  2024-10-28      84.062    84.080   84.016        84.0400       USD/INR\n",
       "2601  2024-10-29      84.045    84.080   83.996        84.0380       USD/INR\n",
       "2602  2024-10-30      84.041    84.085   84.037        84.0825       USD/INR\n",
       "\n",
       "[2603 rows x 6 columns]"
      ]
     },
     "execution_count": 40,
     "metadata": {},
     "output_type": "execute_result"
    }
   ],
   "source": [
    "usd_inr = df.loc[df['Currency Pair']=='USD/INR']\n",
    "usd_inr "
   ]
  },
  {
   "cell_type": "code",
   "execution_count": 26,
   "metadata": {},
   "outputs": [
    {
     "data": {
      "text/plain": [
       "61.343"
      ]
     },
     "execution_count": 26,
     "metadata": {},
     "output_type": "execute_result"
    }
   ],
   "source": [
    "usd_inr['Open_price'].min()"
   ]
  },
  {
   "cell_type": "code",
   "execution_count": 27,
   "metadata": {},
   "outputs": [
    {
     "data": {
      "text/plain": [
       "84.081"
      ]
     },
     "execution_count": 27,
     "metadata": {},
     "output_type": "execute_result"
    }
   ],
   "source": [
    "usd_inr['Open_price'].max()"
   ]
  },
  {
   "cell_type": "markdown",
   "metadata": {},
   "source": [
    "## **Standard Function For RSI feature creation from data**"
   ]
  },
  {
   "cell_type": "code",
   "execution_count": null,
   "metadata": {},
   "outputs": [
    {
     "ename": "NameError",
     "evalue": "name 'pd' is not defined",
     "output_type": "error",
     "traceback": [
      "\u001b[1;31m---------------------------------------------------------------------------\u001b[0m",
      "\u001b[1;31mNameError\u001b[0m                                 Traceback (most recent call last)",
      "Cell \u001b[1;32mIn[1], line 1\u001b[0m\n\u001b[1;32m----> 1\u001b[0m \u001b[38;5;28;01mdef\u001b[39;00m \u001b[38;5;21mcalculate_rsi\u001b[39m(data: pd\u001b[38;5;241m.\u001b[39mDataFrame, column_name: \u001b[38;5;28mstr\u001b[39m \u001b[38;5;241m=\u001b[39m \u001b[38;5;124m'\u001b[39m\u001b[38;5;124mClosing_price\u001b[39m\u001b[38;5;124m'\u001b[39m, period: \u001b[38;5;28mint\u001b[39m \u001b[38;5;241m=\u001b[39m \u001b[38;5;241m14\u001b[39m) \u001b[38;5;241m-\u001b[39m\u001b[38;5;241m>\u001b[39m pd\u001b[38;5;241m.\u001b[39mSeries:\n\u001b[0;32m      2\u001b[0m \u001b[38;5;250m    \u001b[39m\u001b[38;5;124;03m\"\"\"\u001b[39;00m\n\u001b[0;32m      3\u001b[0m \u001b[38;5;124;03m    Calculate the Relative Strength Index (RSI) for a given DataFrame.\u001b[39;00m\n\u001b[0;32m      4\u001b[0m \n\u001b[1;32m   (...)\u001b[0m\n\u001b[0;32m     11\u001b[0m \u001b[38;5;124;03m    - pd.Series: A Pandas Series containing the RSI values.\u001b[39;00m\n\u001b[0;32m     12\u001b[0m \u001b[38;5;124;03m    \"\"\"\u001b[39;00m\n\u001b[0;32m     14\u001b[0m     \u001b[38;5;66;03m# Ensure the column exists\u001b[39;00m\n",
      "\u001b[1;31mNameError\u001b[0m: name 'pd' is not defined"
     ]
    }
   ],
   "source": [
    "def calculate_rsi(data: pd.DataFrame, column_name: str = 'Closing_price', period: int = 14) -> pd.Series:\n",
    "    \"\"\"\n",
    "    Calculate the Relative Strength Index (RSI) for a given DataFrame.\n",
    "\n",
    "    Parameters:\n",
    "    - data (pd.DataFrame): Input DataFrame containing the price data.\n",
    "    - column_name (str): The name of the column to calculate RSI on (default is 'Closing_price').\n",
    "    - period (int): The number of periods to use for RSI calculation (default is 14).\n",
    "\n",
    "    Returns:\n",
    "    - pd.Series: A Pandas Series containing the RSI values.\n",
    "    \"\"\"\n",
    "    \n",
    "    # Ensure the column exists\n",
    "    if column_name not in data.columns:\n",
    "        raise ValueError(f\"Column '{column_name}' does not exist in the DataFrame.\")\n",
    "    \n",
    "    # Step 1: Calculate the daily change in the specified column (e.g., Closing Price)\n",
    "    delta = data[column_name].diff()\n",
    "    \n",
    "    # Step 2: Calculate Gain and Loss\n",
    "    gain = np.where(delta > 0, delta, 0)\n",
    "    loss = np.where(delta < 0, -delta, 0)\n",
    "    \n",
    "    # Step 3: Create a DataFrame for Gain and Loss\n",
    "    gain_df = pd.DataFrame(gain, columns=['Gain'])\n",
    "    loss_df = pd.DataFrame(loss, columns=['Loss'])\n",
    "    \n",
    "    # Step 4: Calculate the rolling average gain and loss\n",
    "    avg_gain = gain_df['Gain'].rolling(window=period, min_periods=1).mean()\n",
    "    avg_loss = loss_df['Loss'].rolling(window=period, min_periods=1).mean()\n",
    "    \n",
    "    # Step 5: Calculate the Relative Strength (RS)\n",
    "    rs = avg_gain / avg_loss\n",
    "    \n",
    "    # Step 6: Calculate the RSI\n",
    "    rsi = 100 - (100 / (1 + rs))\n",
    "    \n",
    "    # Align the result with the input DataFrame\n",
    "    rsi = pd.Series(rsi, name=f\"RSI_{period}\").fillna(0)\n",
    "    \n",
    "    return rsi\n",
    "\n",
    "\n",
    "# Calculate RSI\n",
    "usd_inr['RSI'] = calculate_rsi(usd_inr, 'Closing_price', 14)\n",
    "usd_inr\n"
   ]
  },
  {
   "cell_type": "markdown",
   "metadata": {},
   "source": [
    "## **200 EMA**\n",
    "The Exponential Moving Average (EMA) is a type of moving average that gives more weight to recent prices, making it more responsive to current price changes. The 200 EMA is a commonly used long-term trend indicator, especially in swing trading, to identify the overall market trend and potential support/resistance levels."
   ]
  },
  {
   "cell_type": "markdown",
   "metadata": {},
   "source": [
    "**Interpreting the 200 EMA:**\n",
    "- Bullish Signal: If the price is above the 200 EMA, it often indicates an uptrend or bullish market sentiment.\n",
    "- Bearish Signal: If the price is below the 200 EMA, it may indicate a downtrend or bearish market sentiment.\n",
    "- Support/Resistance: The 200 EMA is often used as a dynamic support/resistance level."
   ]
  },
  {
   "cell_type": "code",
   "execution_count": 15,
   "metadata": {},
   "outputs": [
    {
     "name": "stdout",
     "output_type": "stream",
     "text": [
      "            Date  Closing_price    EMA_200\n",
      "0     2014-11-07        61.4000  61.400000\n",
      "1     2014-11-10        61.4950  61.400945\n",
      "2     2014-11-11        61.5080  61.402010\n",
      "3     2014-11-12        61.3910  61.401901\n",
      "4     2014-11-13        61.5650  61.403524\n",
      "...          ...            ...        ...\n",
      "2598  2024-10-24        84.0640  83.503948\n",
      "2599  2024-10-25        84.0750  83.509630\n",
      "2600  2024-10-28        84.0400  83.514907\n",
      "2601  2024-10-29        84.0380  83.520112\n",
      "2602  2024-10-30        84.0825  83.525708\n",
      "\n",
      "[2603 rows x 3 columns]\n"
     ]
    },
    {
     "name": "stderr",
     "output_type": "stream",
     "text": [
      "C:\\Users\\Sejal Hanmante\\AppData\\Local\\Temp\\ipykernel_22556\\630774935.py:29: SettingWithCopyWarning: \n",
      "A value is trying to be set on a copy of a slice from a DataFrame.\n",
      "Try using .loc[row_indexer,col_indexer] = value instead\n",
      "\n",
      "See the caveats in the documentation: https://pandas.pydata.org/pandas-docs/stable/user_guide/indexing.html#returning-a-view-versus-a-copy\n",
      "  usd_inr['EMA_200'] = calculate_200ema(usd_inr, 'Closing_price', 200)\n"
     ]
    }
   ],
   "source": [
    "import pandas as pd\n",
    "\n",
    "def calculate_200ema(data: pd.DataFrame, column_name: str = 'Closing_price', period: int = 200) -> pd.Series:\n",
    "    \"\"\"\n",
    "    Calculate the Exponential Moving Average (EMA) for a given DataFrame.\n",
    "\n",
    "    Parameters:\n",
    "    - data (pd.DataFrame): Input DataFrame containing the price data.\n",
    "    - column_name (str): The name of the column to calculate EMA on (default is 'Closing_price').\n",
    "    - period (int): The number of periods to use for EMA calculation (default is 200).\n",
    "\n",
    "    Returns:\n",
    "    - pd.Series: A Pandas Series containing the EMA values.\n",
    "    \"\"\"\n",
    "    \n",
    "    # Ensure the column exists\n",
    "    if column_name not in data.columns:\n",
    "        raise ValueError(f\"Column '{column_name}' does not exist in the DataFrame.\")\n",
    "    \n",
    "    # Calculate the EMA\n",
    "    ema = data[column_name].ewm(span=period, adjust=False).mean()\n",
    "    \n",
    "    # Return the EMA as a Pandas Series\n",
    "    return pd.Series(ema, name=f\"EMA_{period}\")\n",
    "\n",
    "\n",
    "    \n",
    "# Calculate 200 EMA\n",
    "usd_inr['EMA_200'] = calculate_200ema(usd_inr, 'Closing_price', 200)\n",
    "print(usd_inr[['Date', 'Closing_price', 'EMA_200']])\n"
   ]
  },
  {
   "cell_type": "markdown",
   "metadata": {},
   "source": [
    "## Support and Resistance Feature Creation "
   ]
  },
  {
   "attachments": {
    "image.png": {
     "image/png": "[encoded data removed]"
    }
   },
   "cell_type": "markdown",
   "metadata": {},
   "source": [
    "![image.png](attachment:image.png)"
   ]
  },
  {
   "cell_type": "code",
   "execution_count": 41,
   "metadata": {},
   "outputs": [
    {
     "name": "stdout",
     "output_type": "stream",
     "text": [
      "           Date  Pivot_Point  Support_1  Resistance_1  Support_2  Resistance_2\n",
      "0    2014-11-07    61.453333  61.286667     61.566667  61.173333     61.733333\n",
      "1    2014-11-09    61.453333  61.286667     61.566667  61.173333     61.733333\n",
      "2    2014-11-10    61.453333  61.286667     61.566667  61.173333     61.733333\n",
      "3    2014-11-11    61.453333  61.286667     61.566667  61.173333     61.733333\n",
      "4    2014-11-12    61.453333  61.286667     61.566667  61.173333     61.733333\n",
      "...         ...          ...        ...           ...        ...           ...\n",
      "3120 2024-10-27    84.055667  84.031333     84.099333  83.987667     84.123667\n",
      "3121 2024-10-28    84.055667  84.031333     84.099333  83.987667     84.123667\n",
      "3122 2024-10-29    84.055667  84.031333     84.099333  83.987667     84.123667\n",
      "3123 2024-10-30    84.055667  84.031333     84.099333  83.987667     84.123667\n",
      "3124 2024-11-03    84.054500  84.024000     84.113000  83.965500     84.143500\n",
      "\n",
      "[3125 rows x 6 columns]\n"
     ]
    },
    {
     "name": "stderr",
     "output_type": "stream",
     "text": [
      "C:\\Users\\Sejal Hanmante\\AppData\\Local\\Temp\\ipykernel_22556\\4102892280.py:15: SettingWithCopyWarning: \n",
      "A value is trying to be set on a copy of a slice from a DataFrame.\n",
      "Try using .loc[row_indexer,col_indexer] = value instead\n",
      "\n",
      "See the caveats in the documentation: https://pandas.pydata.org/pandas-docs/stable/user_guide/indexing.html#returning-a-view-versus-a-copy\n",
      "  data['Date'] = pd.to_datetime(data['Date'])\n"
     ]
    }
   ],
   "source": [
    "\n",
    "import pandas as pd\n",
    "\n",
    "def calculate_swing_support_resistance(data: pd.DataFrame, timeframe: str = 'daily') -> pd.DataFrame:\n",
    "    \"\"\"\n",
    "    Calculate Support and Resistance levels for Swing Trading using Pivot Points for the given timeframe.\n",
    "\n",
    "    Parameters:\n",
    "    - data (pd.DataFrame): Input DataFrame containing the price data.\n",
    "    - timeframe (str): The timeframe for pivot point calculation, either 'daily', 'weekly', or 'monthly'.\n",
    "\n",
    "    Returns:\n",
    "    - pd.DataFrame: DataFrame with Pivot Points, Support, and Resistance levels, forward filled for non-resampled rows.\n",
    "    \"\"\"\n",
    "    # Ensure the 'Date' column is in datetime format and set it as the index\n",
    "    data['Date'] = pd.to_datetime(data['Date'])\n",
    "    data.set_index('Date', inplace=True)\n",
    "\n",
    "    if timeframe == 'daily':\n",
    "        high_col = 'Day_high'\n",
    "        low_col = 'Day_low'\n",
    "        close_col = 'Closing_price'\n",
    "    elif timeframe == 'weekly':\n",
    "        # Resample for weekly data\n",
    "        resampled_data = data.resample('W').agg({\n",
    "            'Day_high': 'max',\n",
    "            'Day_low': 'min',\n",
    "            'Closing_price': 'last'\n",
    "        })\n",
    "        high_col = 'Day_high'\n",
    "        low_col = 'Day_low'\n",
    "        close_col = 'Closing_price'\n",
    "    elif timeframe == 'monthly':\n",
    "        # Resample for monthly data\n",
    "        resampled_data = data.resample('M').agg({\n",
    "            'Day_high': 'max',\n",
    "            'Day_low': 'min',\n",
    "            'Closing_price': 'last'\n",
    "        })\n",
    "        high_col = 'Day_high'\n",
    "        low_col = 'Day_low'\n",
    "        close_col = 'Closing_price'\n",
    "    else:\n",
    "        raise ValueError(\"Timeframe must be 'daily', 'weekly', or 'monthly'.\")\n",
    "\n",
    "    # Calculate Pivot Point, Support, and Resistance levels\n",
    "    resampled_data['Pivot_Point'] = (resampled_data[high_col] + resampled_data[low_col] + resampled_data[close_col]) / 3\n",
    "    resampled_data['Support_1'] = (2 * resampled_data['Pivot_Point']) - resampled_data[high_col]\n",
    "    resampled_data['Resistance_1'] = (2 * resampled_data['Pivot_Point']) - resampled_data[low_col]\n",
    "    resampled_data['Support_2'] = resampled_data['Pivot_Point'] - (resampled_data[high_col] - resampled_data[low_col])\n",
    "    resampled_data['Resistance_2'] = resampled_data['Pivot_Point'] + (resampled_data[high_col] - resampled_data[low_col])\n",
    "\n",
    "    # Forward fill the calculated levels for the original data\n",
    "    resampled_data = resampled_data[['Pivot_Point', 'Support_1', 'Resistance_1', 'Support_2', 'Resistance_2']]\n",
    "    data = data.join(resampled_data, how='outer')\n",
    "    \n",
    "    # Fill NaN values using forward fill and backward fill\n",
    "    data[['Pivot_Point', 'Support_1', 'Resistance_1', 'Support_2', 'Resistance_2']] = data[['Pivot_Point', 'Support_1', 'Resistance_1', 'Support_2', 'Resistance_2']].ffill().bfill()\n",
    "\n",
    "    # Reset the index for the final output\n",
    "    data.reset_index(inplace=True)\n",
    "\n",
    "    return data\n",
    "\n",
    "# Example Usage\n",
    "if __name__ == \"__main__\":\n",
    "    # Assuming usd_inr is your dataset\n",
    "    result_data = calculate_swing_support_resistance(usd_inr, timeframe='weekly')\n",
    "    print(result_data[['Date', 'Pivot_Point', 'Support_1', 'Resistance_1', 'Support_2', 'Resistance_2']])\n"
   ]
  },
  {
   "cell_type": "code",
   "execution_count": null,
   "metadata": {},
   "outputs": [],
   "source": [
    "c"
   ]
  }
 ],
 "metadata": {
  "kernelspec": {
   "display_name": "base",
   "language": "python",
   "name": "python3"
  },
  "language_info": {
   "codemirror_mode": {
    "name": "ipython",
    "version": 3
   },
   "file_extension": ".py",
   "mimetype": "text/x-python",
   "name": "python",
   "nbconvert_exporter": "python",
   "pygments_lexer": "ipython3",
   "version": "3.12.3"
  }
 },
 "nbformat": 4,
 "nbformat_minor": 2
}
