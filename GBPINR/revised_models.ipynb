{
 "cells": [
  {
   "cell_type": "code",
   "execution_count": 1,
   "id": "54edfafb",
   "metadata": {},
   "outputs": [],
   "source": [
    "import warnings\n",
    "warnings.filterwarnings(\"ignore\")\n",
    "\n",
    "import numpy as np \n",
    "import pandas as pd \n",
    "\n"
   ]
  },
  {
   "cell_type": "code",
   "execution_count": 2,
   "id": "16f33082",
   "metadata": {},
   "outputs": [
    {
     "data": {
      "application/vnd.microsoft.datawrangler.viewer.v0+json": {
       "columns": [
        {
         "name": "index",
         "rawType": "int64",
         "type": "integer"
        },
        {
         "name": "Unnamed: 0.1",
         "rawType": "int64",
         "type": "integer"
        },
        {
         "name": "Unnamed: 0",
         "rawType": "int64",
         "type": "integer"
        },
        {
         "name": "Date",
         "rawType": "object",
         "type": "string"
        },
        {
         "name": "Open_price",
         "rawType": "float64",
         "type": "float"
        },
        {
         "name": "Day_high",
         "rawType": "float64",
         "type": "float"
        },
        {
         "name": "Day_low",
         "rawType": "float64",
         "type": "float"
        },
        {
         "name": "Closing_price",
         "rawType": "float64",
         "type": "float"
        },
        {
         "name": "Currency Pair",
         "rawType": "object",
         "type": "string"
        },
        {
         "name": "Deseasonalized_Day_high",
         "rawType": "float64",
         "type": "float"
        },
        {
         "name": "Deseasonalized_Day_low",
         "rawType": "float64",
         "type": "float"
        },
        {
         "name": "Deseasonalized_Open_price",
         "rawType": "float64",
         "type": "float"
        },
        {
         "name": "EMA_100",
         "rawType": "float64",
         "type": "float"
        },
        {
         "name": "EMA_200",
         "rawType": "float64",
         "type": "float"
        },
        {
         "name": "EMA_50",
         "rawType": "float64",
         "type": "float"
        },
        {
         "name": "RSI",
         "rawType": "float64",
         "type": "float"
        },
        {
         "name": "MACD",
         "rawType": "float64",
         "type": "float"
        },
        {
         "name": "Signal_Line",
         "rawType": "float64",
         "type": "float"
        },
        {
         "name": "MACD_Histogram",
         "rawType": "float64",
         "type": "float"
        },
        {
         "name": "SMA",
         "rawType": "float64",
         "type": "float"
        },
        {
         "name": "Upper Band",
         "rawType": "float64",
         "type": "float"
        },
        {
         "name": "Lower Band",
         "rawType": "float64",
         "type": "float"
        }
       ],
       "ref": "2205a751-74e4-46f5-ae02-d166a6a26a0c",
       "rows": [
        [
         "0",
         "0",
         "7851",
         "2014-11-07",
         "97.6145",
         "97.7156",
         "97.1888",
         "97.4138",
         "GBP/INR",
         "97.75674948605618",
         "97.23408840325284",
         "97.66153776030508",
         "97.4138",
         "97.4138",
         "97.4138",
         "0.0",
         "0.0",
         "0.0",
         "0.0",
         "97.032375",
         "97.87561082734982",
         "96.1891391726502"
        ],
        [
         "1",
         "1",
         "7852",
         "2014-11-10",
         "97.4982",
         "97.9802",
         "97.3621",
         "97.5163",
         "GBP/INR",
         "97.97884528509756",
         "97.37436986889966",
         "97.53248580595624",
         "97.41582970297029",
         "97.4148199004975",
         "97.41781960784314",
         "0.0",
         "0.0081766381766215",
         "0.0016353276353243",
         "0.0065413105412972",
         "97.032375",
         "97.87561082734982",
         "96.1891391726502"
        ],
        [
         "2",
         "2",
         "7853",
         "2014-11-11",
         "97.6663",
         "98.0336",
         "97.5695",
         "97.9538",
         "GBP/INR",
         "97.99455996711768",
         "97.51192739837629",
         "97.64619361604508",
         "97.42648258013918",
         "97.4201828865622",
         "97.43883844675126",
         "0.0",
         "0.0493899400167094",
         "0.0111862501116013",
         "0.0382036899051081",
         "97.032375",
         "97.87561082734982",
         "96.1891391726502"
        ],
        [
         "3",
         "3",
         "7854",
         "2014-11-12",
         "97.8621",
         "98.0328",
         "96.6934",
         "96.7051",
         "GBP/INR",
         "97.94645662102228",
         "96.62650162618114",
         "97.77213774832236",
         "97.41219777657209",
         "97.4130676339596",
         "97.41006439001592",
         "0.0",
         "-0.0184946803651655",
         "0.0052500640162479",
         "-0.0237447443814135",
         "97.032375",
         "97.87561082734982",
         "96.1891391726502"
        ],
        [
         "4",
         "4",
         "7855",
         "2014-11-13",
         "96.7591",
         "97.1627",
         "96.52",
         "96.6187",
         "GBP/INR",
         "97.0637305602274",
         "96.44515096187696",
         "96.69048980876975",
         "97.39648494931322",
         "97.40516347839782",
         "97.37903049236824",
         "0.0",
         "-0.078362178608927",
         "-0.011472384508787",
         "-0.0668897941001399",
         "97.032375",
         "97.87561082734982",
         "96.1891391726502"
        ]
       ],
       "shape": {
        "columns": 21,
        "rows": 5
       }
      },
      "text/html": [
       "<div>\n",
       "<style scoped>\n",
       "    .dataframe tbody tr th:only-of-type {\n",
       "        vertical-align: middle;\n",
       "    }\n",
       "\n",
       "    .dataframe tbody tr th {\n",
       "        vertical-align: top;\n",
       "    }\n",
       "\n",
       "    .dataframe thead th {\n",
       "        text-align: right;\n",
       "    }\n",
       "</style>\n",
       "<table border=\"1\" class=\"dataframe\">\n",
       "  <thead>\n",
       "    <tr style=\"text-align: right;\">\n",
       "      <th></th>\n",
       "      <th>Unnamed: 0.1</th>\n",
       "      <th>Unnamed: 0</th>\n",
       "      <th>Date</th>\n",
       "      <th>Open_price</th>\n",
       "      <th>Day_high</th>\n",
       "      <th>Day_low</th>\n",
       "      <th>Closing_price</th>\n",
       "      <th>Currency Pair</th>\n",
       "      <th>Deseasonalized_Day_high</th>\n",
       "      <th>Deseasonalized_Day_low</th>\n",
       "      <th>...</th>\n",
       "      <th>EMA_100</th>\n",
       "      <th>EMA_200</th>\n",
       "      <th>EMA_50</th>\n",
       "      <th>RSI</th>\n",
       "      <th>MACD</th>\n",
       "      <th>Signal_Line</th>\n",
       "      <th>MACD_Histogram</th>\n",
       "      <th>SMA</th>\n",
       "      <th>Upper Band</th>\n",
       "      <th>Lower Band</th>\n",
       "    </tr>\n",
       "  </thead>\n",
       "  <tbody>\n",
       "    <tr>\n",
       "      <th>0</th>\n",
       "      <td>0</td>\n",
       "      <td>7851</td>\n",
       "      <td>2014-11-07</td>\n",
       "      <td>97.6145</td>\n",
       "      <td>97.7156</td>\n",
       "      <td>97.1888</td>\n",
       "      <td>97.4138</td>\n",
       "      <td>GBP/INR</td>\n",
       "      <td>97.756749</td>\n",
       "      <td>97.234088</td>\n",
       "      <td>...</td>\n",
       "      <td>97.413800</td>\n",
       "      <td>97.413800</td>\n",
       "      <td>97.413800</td>\n",
       "      <td>0.0</td>\n",
       "      <td>0.000000</td>\n",
       "      <td>0.000000</td>\n",
       "      <td>0.000000</td>\n",
       "      <td>97.032375</td>\n",
       "      <td>97.875611</td>\n",
       "      <td>96.189139</td>\n",
       "    </tr>\n",
       "    <tr>\n",
       "      <th>1</th>\n",
       "      <td>1</td>\n",
       "      <td>7852</td>\n",
       "      <td>2014-11-10</td>\n",
       "      <td>97.4982</td>\n",
       "      <td>97.9802</td>\n",
       "      <td>97.3621</td>\n",
       "      <td>97.5163</td>\n",
       "      <td>GBP/INR</td>\n",
       "      <td>97.978845</td>\n",
       "      <td>97.374370</td>\n",
       "      <td>...</td>\n",
       "      <td>97.415830</td>\n",
       "      <td>97.414820</td>\n",
       "      <td>97.417820</td>\n",
       "      <td>0.0</td>\n",
       "      <td>0.008177</td>\n",
       "      <td>0.001635</td>\n",
       "      <td>0.006541</td>\n",
       "      <td>97.032375</td>\n",
       "      <td>97.875611</td>\n",
       "      <td>96.189139</td>\n",
       "    </tr>\n",
       "    <tr>\n",
       "      <th>2</th>\n",
       "      <td>2</td>\n",
       "      <td>7853</td>\n",
       "      <td>2014-11-11</td>\n",
       "      <td>97.6663</td>\n",
       "      <td>98.0336</td>\n",
       "      <td>97.5695</td>\n",
       "      <td>97.9538</td>\n",
       "      <td>GBP/INR</td>\n",
       "      <td>97.994560</td>\n",
       "      <td>97.511927</td>\n",
       "      <td>...</td>\n",
       "      <td>97.426483</td>\n",
       "      <td>97.420183</td>\n",
       "      <td>97.438838</td>\n",
       "      <td>0.0</td>\n",
       "      <td>0.049390</td>\n",
       "      <td>0.011186</td>\n",
       "      <td>0.038204</td>\n",
       "      <td>97.032375</td>\n",
       "      <td>97.875611</td>\n",
       "      <td>96.189139</td>\n",
       "    </tr>\n",
       "    <tr>\n",
       "      <th>3</th>\n",
       "      <td>3</td>\n",
       "      <td>7854</td>\n",
       "      <td>2014-11-12</td>\n",
       "      <td>97.8621</td>\n",
       "      <td>98.0328</td>\n",
       "      <td>96.6934</td>\n",
       "      <td>96.7051</td>\n",
       "      <td>GBP/INR</td>\n",
       "      <td>97.946457</td>\n",
       "      <td>96.626502</td>\n",
       "      <td>...</td>\n",
       "      <td>97.412198</td>\n",
       "      <td>97.413068</td>\n",
       "      <td>97.410064</td>\n",
       "      <td>0.0</td>\n",
       "      <td>-0.018495</td>\n",
       "      <td>0.005250</td>\n",
       "      <td>-0.023745</td>\n",
       "      <td>97.032375</td>\n",
       "      <td>97.875611</td>\n",
       "      <td>96.189139</td>\n",
       "    </tr>\n",
       "    <tr>\n",
       "      <th>4</th>\n",
       "      <td>4</td>\n",
       "      <td>7855</td>\n",
       "      <td>2014-11-13</td>\n",
       "      <td>96.7591</td>\n",
       "      <td>97.1627</td>\n",
       "      <td>96.5200</td>\n",
       "      <td>96.6187</td>\n",
       "      <td>GBP/INR</td>\n",
       "      <td>97.063731</td>\n",
       "      <td>96.445151</td>\n",
       "      <td>...</td>\n",
       "      <td>97.396485</td>\n",
       "      <td>97.405163</td>\n",
       "      <td>97.379030</td>\n",
       "      <td>0.0</td>\n",
       "      <td>-0.078362</td>\n",
       "      <td>-0.011472</td>\n",
       "      <td>-0.066890</td>\n",
       "      <td>97.032375</td>\n",
       "      <td>97.875611</td>\n",
       "      <td>96.189139</td>\n",
       "    </tr>\n",
       "  </tbody>\n",
       "</table>\n",
       "<p>5 rows × 21 columns</p>\n",
       "</div>"
      ],
      "text/plain": [
       "   Unnamed: 0.1  Unnamed: 0        Date  Open_price  Day_high  Day_low  \\\n",
       "0             0        7851  2014-11-07     97.6145   97.7156  97.1888   \n",
       "1             1        7852  2014-11-10     97.4982   97.9802  97.3621   \n",
       "2             2        7853  2014-11-11     97.6663   98.0336  97.5695   \n",
       "3             3        7854  2014-11-12     97.8621   98.0328  96.6934   \n",
       "4             4        7855  2014-11-13     96.7591   97.1627  96.5200   \n",
       "\n",
       "   Closing_price Currency Pair  Deseasonalized_Day_high  \\\n",
       "0        97.4138       GBP/INR                97.756749   \n",
       "1        97.5163       GBP/INR                97.978845   \n",
       "2        97.9538       GBP/INR                97.994560   \n",
       "3        96.7051       GBP/INR                97.946457   \n",
       "4        96.6187       GBP/INR                97.063731   \n",
       "\n",
       "   Deseasonalized_Day_low  ...    EMA_100    EMA_200     EMA_50  RSI  \\\n",
       "0               97.234088  ...  97.413800  97.413800  97.413800  0.0   \n",
       "1               97.374370  ...  97.415830  97.414820  97.417820  0.0   \n",
       "2               97.511927  ...  97.426483  97.420183  97.438838  0.0   \n",
       "3               96.626502  ...  97.412198  97.413068  97.410064  0.0   \n",
       "4               96.445151  ...  97.396485  97.405163  97.379030  0.0   \n",
       "\n",
       "       MACD  Signal_Line  MACD_Histogram        SMA  Upper Band  Lower Band  \n",
       "0  0.000000     0.000000        0.000000  97.032375   97.875611   96.189139  \n",
       "1  0.008177     0.001635        0.006541  97.032375   97.875611   96.189139  \n",
       "2  0.049390     0.011186        0.038204  97.032375   97.875611   96.189139  \n",
       "3 -0.018495     0.005250       -0.023745  97.032375   97.875611   96.189139  \n",
       "4 -0.078362    -0.011472       -0.066890  97.032375   97.875611   96.189139  \n",
       "\n",
       "[5 rows x 21 columns]"
      ]
     },
     "execution_count": 2,
     "metadata": {},
     "output_type": "execute_result"
    }
   ],
   "source": [
    "df = pd.read_csv(r\"E:\\gnn project\\ForEx\\GBPINR\\gbp_inr.csv\")\n",
    "df.head()"
   ]
  },
  {
   "cell_type": "code",
   "execution_count": 3,
   "id": "7cfb65ca",
   "metadata": {},
   "outputs": [
    {
     "data": {
      "text/plain": [
       "Index(['Unnamed: 0.1', 'Unnamed: 0', 'Date', 'Open_price', 'Day_high',\n",
       "       'Day_low', 'Closing_price', 'Currency Pair', 'Deseasonalized_Day_high',\n",
       "       'Deseasonalized_Day_low', 'Deseasonalized_Open_price', 'EMA_100',\n",
       "       'EMA_200', 'EMA_50', 'RSI', 'MACD', 'Signal_Line', 'MACD_Histogram',\n",
       "       'SMA', 'Upper Band', 'Lower Band'],\n",
       "      dtype='object')"
      ]
     },
     "execution_count": 3,
     "metadata": {},
     "output_type": "execute_result"
    }
   ],
   "source": [
    "df.columns"
   ]
  },
  {
   "cell_type": "markdown",
   "id": "b8be4afa",
   "metadata": {},
   "source": [
    "## Linear regression"
   ]
  },
  {
   "cell_type": "code",
   "execution_count": 5,
   "id": "7b34a281",
   "metadata": {},
   "outputs": [
    {
     "name": "stdout",
     "output_type": "stream",
     "text": [
      "   Fold       MAE      RMSE        R2     ROI(%)    Sharpe  MaxDrawdown  \\\n",
      "0     1  0.591863  0.660780  0.937909  77.196324  0.445879    -0.010145   \n",
      "1     2  0.235355  0.306608  0.986278  78.809688  0.439158    -0.011608   \n",
      "2     3  0.291528  0.412600  0.989240  83.097512  0.506913    -0.007030   \n",
      "3     4  0.265120  0.359346  0.988363  78.360634  0.469030    -0.010583   \n",
      "4     5  0.189008  0.240363  0.991193  56.962405  0.515879    -0.005112   \n",
      "\n",
      "   DirAcc(%)  \n",
      "0  78.899083  \n",
      "1  79.128440  \n",
      "2  78.440367  \n",
      "3  79.357798  \n",
      "4  79.816514  \n",
      "\n",
      "Average performance across folds:\n",
      "Fold            3.000000\n",
      "MAE             0.314575\n",
      "RMSE            0.395939\n",
      "R2              0.978596\n",
      "ROI(%)         74.885313\n",
      "Sharpe          0.475372\n",
      "MaxDrawdown    -0.008896\n",
      "DirAcc(%)      79.128440\n",
      "dtype: float64\n"
     ]
    }
   ],
   "source": [
    "import pandas as pd\n",
    "import numpy as np\n",
    "from sklearn.linear_model import LinearRegression\n",
    "from sklearn.metrics import mean_absolute_error, mean_squared_error, r2_score\n",
    "from sklearn.model_selection import TimeSeriesSplit\n",
    "\n",
    "# === Load and prepare ===\n",
    "# Assume df is already a pandas DataFrame with the columns you mentioned\n",
    "df = df.copy()\n",
    "df = df.dropna().reset_index(drop=True)\n",
    "\n",
    "# --- Features and Target ---\n",
    "features = [\n",
    "    'EMA_100', 'EMA_200', 'EMA_50',\n",
    "    'RSI', 'MACD', 'Signal_Line', 'MACD_Histogram',\n",
    "    'SMA', 'Upper Band', 'Lower Band'\n",
    "]\n",
    "target = 'Closing_price'   # or 'Deseasonalized_Day_high' etc.\n",
    "\n",
    "X = df[features]\n",
    "y = df[target]\n",
    "\n",
    "# === Walk-forward validation ===\n",
    "tscv = TimeSeriesSplit(n_splits=5)\n",
    "lr = LinearRegression()\n",
    "\n",
    "all_metrics = []\n",
    "\n",
    "for fold, (train_idx, test_idx) in enumerate(tscv.split(X), 1):\n",
    "    X_train, X_test = X.iloc[train_idx], X.iloc[test_idx]\n",
    "    y_train, y_test = y.iloc[train_idx], y.iloc[test_idx]\n",
    "\n",
    "    lr.fit(X_train, y_train)\n",
    "    y_pred = lr.predict(X_test)\n",
    "\n",
    "    # --- Regression metrics ---\n",
    "    mae = mean_absolute_error(y_test, y_pred)\n",
    "    mse = mean_squared_error(y_test, y_pred)\n",
    "    rmse = np.sqrt(mse)\n",
    "    r2 = r2_score(y_test, y_pred)\n",
    "\n",
    "    # --- Trading metrics ---\n",
    "    pred_returns = pd.Series(y_pred, index=y_test.index).pct_change().fillna(0)\n",
    "    actual_returns = df.loc[y_test.index, 'Closing_price'].pct_change().fillna(0)\n",
    "\n",
    "    # Simple strategy: go long if predicted return > 0\n",
    "    strategy_returns = np.where(pred_returns > 0, actual_returns, 0)\n",
    "    strategy_returns = pd.Series(strategy_returns, index=y_test.index)\n",
    "\n",
    "    roi = strategy_returns.sum() * 100\n",
    "    sharpe = (strategy_returns.mean() / strategy_returns.std()) if strategy_returns.std() != 0 else 0\n",
    "    cumulative = (1 + strategy_returns).cumprod()\n",
    "    drawdown = (cumulative - cumulative.cummax()) / cumulative.cummax()\n",
    "    max_dd = drawdown.min()\n",
    "\n",
    "    # Directional Accuracy\n",
    "    def directional_accuracy(actual, predicted):\n",
    "        actual_diff = np.diff(actual)\n",
    "        pred_diff = np.diff(predicted)\n",
    "        return np.mean(np.sign(actual_diff) == np.sign(pred_diff)) * 100\n",
    "\n",
    "    da = directional_accuracy(y_test.values, y_pred)\n",
    "\n",
    "    all_metrics.append([fold, mae, rmse, r2, roi, sharpe, max_dd, da])\n",
    "\n",
    "# === Collect Results ===\n",
    "metrics_df = pd.DataFrame(all_metrics, columns=[\n",
    "    'Fold', 'MAE', 'RMSE', 'R2', 'ROI(%)', 'Sharpe', 'MaxDrawdown', 'DirAcc(%)'\n",
    "])\n",
    "print(metrics_df)\n",
    "\n",
    "# === Average performance ===\n",
    "print(\"\\nAverage performance across folds:\")\n",
    "print(metrics_df.mean())\n"
   ]
  },
  {
   "cell_type": "code",
   "execution_count": 6,
   "id": "f9de2402",
   "metadata": {},
   "outputs": [
    {
     "name": "stdout",
     "output_type": "stream",
     "text": [
      "Rolling Walk-Forward MAE: 0.2507, RMSE: 0.3385, R2: 0.9980\n",
      "Directional Accuracy: 78.89%\n"
     ]
    },
    {
     "data": {
      "image/png": "[encoded data removed]",
      "text/plain": [
       "<Figure size 1200x600 with 1 Axes>"
      ]
     },
     "metadata": {},
     "output_type": "display_data"
    }
   ],
   "source": [
    "import pandas as pd\n",
    "import numpy as np\n",
    "import matplotlib.pyplot as plt\n",
    "from sklearn.linear_model import LinearRegression\n",
    "from sklearn.metrics import mean_absolute_error, mean_squared_error, r2_score\n",
    "\n",
    "# === Prepare Data ===\n",
    "df = df.copy().dropna().reset_index(drop=True)\n",
    "\n",
    "features = [\n",
    "    'EMA_100', 'EMA_200', 'EMA_50',\n",
    "    'RSI', 'MACD', 'Signal_Line', 'MACD_Histogram',\n",
    "    'SMA', 'Upper Band', 'Lower Band'\n",
    "]\n",
    "target = 'Closing_price'  # or try 'Deseasonalized_Day_high', etc.\n",
    "\n",
    "X = df[features].values\n",
    "y = df[target].values\n",
    "\n",
    "# === Walk-forward params ===\n",
    "train_window = 500   # how many samples in each rolling train set\n",
    "test_window = 30     # how many samples to predict forward each step\n",
    "\n",
    "lr = LinearRegression()\n",
    "\n",
    "# Store results\n",
    "all_preds, all_actuals, all_idx = [], [], []\n",
    "\n",
    "for start in range(0, len(X) - train_window - test_window, test_window):\n",
    "    end = start + train_window\n",
    "    X_train, y_train = X[start:end], y[start:end]\n",
    "    X_test, y_test = X[end:end+test_window], y[end:end+test_window]\n",
    "\n",
    "    lr.fit(X_train, y_train)\n",
    "    y_pred = lr.predict(X_test)\n",
    "\n",
    "    all_preds.extend(y_pred)\n",
    "    all_actuals.extend(y_test)\n",
    "    all_idx.extend(range(end, end+test_window))\n",
    "\n",
    "# Convert to Series\n",
    "y_actual_series = pd.Series(all_actuals, index=all_idx)\n",
    "y_pred_series = pd.Series(all_preds, index=all_idx)\n",
    "\n",
    "# === Metrics ===\n",
    "mae = mean_absolute_error(y_actual_series, y_pred_series)\n",
    "rmse = np.sqrt(mean_squared_error(y_actual_series, y_pred_series))\n",
    "r2 = r2_score(y_actual_series, y_pred_series)\n",
    "\n",
    "print(f\"Rolling Walk-Forward MAE: {mae:.4f}, RMSE: {rmse:.4f}, R2: {r2:.4f}\")\n",
    "\n",
    "# Directional Accuracy\n",
    "def directional_accuracy(actual, predicted):\n",
    "    actual_diff = np.diff(actual)\n",
    "    pred_diff = np.diff(predicted)\n",
    "    return np.mean(np.sign(actual_diff) == np.sign(pred_diff)) * 100\n",
    "\n",
    "da = directional_accuracy(y_actual_series.values, y_pred_series.values)\n",
    "print(f\"Directional Accuracy: {da:.2f}%\")\n",
    "\n",
    "# === Plot results ===\n",
    "plt.figure(figsize=(12,6))\n",
    "plt.plot(y_actual_series.index, y_actual_series, label=\"Actual\", color=\"blue\")\n",
    "plt.plot(y_pred_series.index, y_pred_series, label=\"Predicted\", color=\"red\", linestyle=\"dashed\")\n",
    "plt.title(\"Rolling Walk-Forward Forecast vs Actual\")\n",
    "plt.xlabel(\"Time Index\")\n",
    "plt.ylabel(\"Price\")\n",
    "plt.legend()\n",
    "plt.show()\n"
   ]
  },
  {
   "cell_type": "code",
   "execution_count": null,
   "id": "e992eac2",
   "metadata": {},
   "outputs": [
    {
     "data": {
      "image/png": "[encoded data removed]",
      "text/plain": [
       "<Figure size 1000x600 with 1 Axes>"
      ]
     },
     "metadata": {},
     "output_type": "display_data"
    },
    {
     "data": {
      "image/png": "[encoded data removed]",
      "text/plain": [
       "<Figure size 800x550 with 2 Axes>"
      ]
     },
     "metadata": {},
     "output_type": "display_data"
    }
   ],
   "source": [
    "import shap\n",
    "import numpy as np\n",
    "import matplotlib.pyplot as plt\n",
    "from sklearn.linear_model import LinearRegression\n",
    "\n",
    "# === SHAP on Rolling Walk-Forward ===\n",
    "train_window = 500\n",
    "test_window = 30\n",
    "features = [\n",
    "    'EMA_100', 'EMA_200', 'EMA_50',\n",
    "    'RSI', 'MACD', 'Signal_Line', 'MACD_Histogram',\n",
    "    'SMA', 'Upper Band', 'Lower Band'\n",
    "]\n",
    "\n",
    "X = df[features].values\n",
    "y = df['Closing_price'].values\n",
    "\n",
    "lr = LinearRegression()\n",
    "\n",
    "all_shap_values = []\n",
    "all_feature_importance = []\n",
    "\n",
    "for start in range(0, len(X) - train_window - test_window, test_window):\n",
    "    end = start + train_window\n",
    "    X_train, y_train = X[start:end], y[start:end]\n",
    "    X_test = X[end:end+test_window]\n",
    "    \n",
    "    # Fit\n",
    "    lr.fit(X_train, y_train)\n",
    "    \n",
    "    # SHAP Explainer\n",
    "    explainer = shap.Explainer(lr, X_train)\n",
    "    shap_values = explainer(X_test)\n",
    "    \n",
    "    # Aggregate mean absolute shap values (feature importance for this window)\n",
    "    mean_abs_shap = np.abs(shap_values.values).mean(axis=0)\n",
    "    all_feature_importance.append(mean_abs_shap)\n",
    "\n",
    "# Convert to array\n",
    "all_feature_importance = np.array(all_feature_importance)\n",
    "\n",
    "# === Plot Average Feature Importance Across Walk-Forward ===\n",
    "mean_importance = all_feature_importance.mean(axis=0)\n",
    "sorted_idx = np.argsort(mean_importance)[::-1]\n",
    "\n",
    "plt.figure(figsize=(10,6))\n",
    "plt.bar(range(len(features)), mean_importance[sorted_idx])\n",
    "plt.xticks(range(len(features)), np.array(features)[sorted_idx], rotation=45)\n",
    "plt.title(\"Average SHAP Feature Importance (Rolling Walk-Forward)\")\n",
    "plt.show()\n",
    "\n",
    "# === Optional: Waterfall/Beeswarm for last window ===\n",
    "shap.plots.beeswarm(shap_values, show=True)\n"
   ]
  },
  {
   "cell_type": "markdown",
   "id": "c7e53f9f",
   "metadata": {},
   "source": [
    "## KNN"
   ]
  },
  {
   "cell_type": "code",
   "execution_count": 12,
   "id": "76f74976",
   "metadata": {},
   "outputs": [
    {
     "data": {
      "application/vnd.jupyter.widget-view+json": {
       "model_id": "17867911501844a08b351ba2673fad9d",
       "version_major": 2,
       "version_minor": 0
      },
      "text/plain": [
       "  0%|          | 0/30 [00:00<?, ?it/s]"
      ]
     },
     "metadata": {},
     "output_type": "display_data"
    },
    {
     "data": {
      "application/vnd.jupyter.widget-view+json": {
       "model_id": "f36e4e2a6bde445297fc1b8f0cb411b0",
       "version_major": 2,
       "version_minor": 0
      },
      "text/plain": [
       "  0%|          | 0/30 [00:00<?, ?it/s]"
      ]
     },
     "metadata": {},
     "output_type": "display_data"
    },
    {
     "data": {
      "application/vnd.jupyter.widget-view+json": {
       "model_id": "c13e2dc3389342fd896492f03da56342",
       "version_major": 2,
       "version_minor": 0
      },
      "text/plain": [
       "  0%|          | 0/30 [00:00<?, ?it/s]"
      ]
     },
     "metadata": {},
     "output_type": "display_data"
    },
    {
     "data": {
      "application/vnd.jupyter.widget-view+json": {
       "model_id": "afe7a0dfcae64cc6bb9f63316c07f8c5",
       "version_major": 2,
       "version_minor": 0
      },
      "text/plain": [
       "  0%|          | 0/30 [00:00<?, ?it/s]"
      ]
     },
     "metadata": {},
     "output_type": "display_data"
    },
    {
     "data": {
      "application/vnd.jupyter.widget-view+json": {
       "model_id": "4cc721b0314b4ba5862c6272cdf53daa",
       "version_major": 2,
       "version_minor": 0
      },
      "text/plain": [
       "  0%|          | 0/30 [00:00<?, ?it/s]"
      ]
     },
     "metadata": {},
     "output_type": "display_data"
    },
    {
     "data": {
      "application/vnd.jupyter.widget-view+json": {
       "model_id": "db8ef1bea15f41ad9c2fe5ef754fe73f",
       "version_major": 2,
       "version_minor": 0
      },
      "text/plain": [
       "  0%|          | 0/30 [00:00<?, ?it/s]"
      ]
     },
     "metadata": {},
     "output_type": "display_data"
    },
    {
     "data": {
      "application/vnd.jupyter.widget-view+json": {
       "model_id": "c1868cd9e1eb47f390faa75731eba419",
       "version_major": 2,
       "version_minor": 0
      },
      "text/plain": [
       "  0%|          | 0/30 [00:00<?, ?it/s]"
      ]
     },
     "metadata": {},
     "output_type": "display_data"
    },
    {
     "data": {
      "application/vnd.jupyter.widget-view+json": {
       "model_id": "d3f23be4a7ec49df857cffbcad012dec",
       "version_major": 2,
       "version_minor": 0
      },
      "text/plain": [
       "  0%|          | 0/30 [00:00<?, ?it/s]"
      ]
     },
     "metadata": {},
     "output_type": "display_data"
    },
    {
     "data": {
      "application/vnd.jupyter.widget-view+json": {
       "model_id": "8b4496d4995d4ec4bb081ad6351660b8",
       "version_major": 2,
       "version_minor": 0
      },
      "text/plain": [
       "  0%|          | 0/30 [00:00<?, ?it/s]"
      ]
     },
     "metadata": {},
     "output_type": "display_data"
    },
    {
     "data": {
      "application/vnd.jupyter.widget-view+json": {
       "model_id": "320866d7abb74373a56d8cad7490f7ce",
       "version_major": 2,
       "version_minor": 0
      },
      "text/plain": [
       "  0%|          | 0/30 [00:00<?, ?it/s]"
      ]
     },
     "metadata": {},
     "output_type": "display_data"
    },
    {
     "data": {
      "application/vnd.jupyter.widget-view+json": {
       "model_id": "e248ff5b15b64febaece46f1360df9bd",
       "version_major": 2,
       "version_minor": 0
      },
      "text/plain": [
       "  0%|          | 0/30 [00:00<?, ?it/s]"
      ]
     },
     "metadata": {},
     "output_type": "display_data"
    },
    {
     "data": {
      "application/vnd.jupyter.widget-view+json": {
       "model_id": "895754afae18463aa7bd0a11f45d99b5",
       "version_major": 2,
       "version_minor": 0
      },
      "text/plain": [
       "  0%|          | 0/30 [00:00<?, ?it/s]"
      ]
     },
     "metadata": {},
     "output_type": "display_data"
    },
    {
     "data": {
      "application/vnd.jupyter.widget-view+json": {
       "model_id": "b4d8a70372aa4a09af25efc4f2c29ec5",
       "version_major": 2,
       "version_minor": 0
      },
      "text/plain": [
       "  0%|          | 0/30 [00:00<?, ?it/s]"
      ]
     },
     "metadata": {},
     "output_type": "display_data"
    },
    {
     "data": {
      "application/vnd.jupyter.widget-view+json": {
       "model_id": "c8cc425b5d514f16a2cfa6f2d032bb9a",
       "version_major": 2,
       "version_minor": 0
      },
      "text/plain": [
       "  0%|          | 0/30 [00:00<?, ?it/s]"
      ]
     },
     "metadata": {},
     "output_type": "display_data"
    },
    {
     "data": {
      "application/vnd.jupyter.widget-view+json": {
       "model_id": "4020ea31308c473f98ae607f688acdb5",
       "version_major": 2,
       "version_minor": 0
      },
      "text/plain": [
       "  0%|          | 0/30 [00:00<?, ?it/s]"
      ]
     },
     "metadata": {},
     "output_type": "display_data"
    },
    {
     "data": {
      "application/vnd.jupyter.widget-view+json": {
       "model_id": "500c56eb66ec4aa7bb6ca250a94a1466",
       "version_major": 2,
       "version_minor": 0
      },
      "text/plain": [
       "  0%|          | 0/30 [00:00<?, ?it/s]"
      ]
     },
     "metadata": {},
     "output_type": "display_data"
    },
    {
     "data": {
      "application/vnd.jupyter.widget-view+json": {
       "model_id": "83155f2cf3b54b82b37ac5247974509a",
       "version_major": 2,
       "version_minor": 0
      },
      "text/plain": [
       "  0%|          | 0/30 [00:00<?, ?it/s]"
      ]
     },
     "metadata": {},
     "output_type": "display_data"
    },
    {
     "data": {
      "application/vnd.jupyter.widget-view+json": {
       "model_id": "ba7f614ab18e4a26978e7adfdc38268f",
       "version_major": 2,
       "version_minor": 0
      },
      "text/plain": [
       "  0%|          | 0/30 [00:00<?, ?it/s]"
      ]
     },
     "metadata": {},
     "output_type": "display_data"
    },
    {
     "data": {
      "application/vnd.jupyter.widget-view+json": {
       "model_id": "dd5fcaed91724adf80f13b6056830a40",
       "version_major": 2,
       "version_minor": 0
      },
      "text/plain": [
       "  0%|          | 0/30 [00:00<?, ?it/s]"
      ]
     },
     "metadata": {},
     "output_type": "display_data"
    },
    {
     "data": {
      "application/vnd.jupyter.widget-view+json": {
       "model_id": "bb13b05fa0ef47d1af19f343c575ed78",
       "version_major": 2,
       "version_minor": 0
      },
      "text/plain": [
       "  0%|          | 0/30 [00:00<?, ?it/s]"
      ]
     },
     "metadata": {},
     "output_type": "display_data"
    },
    {
     "data": {
      "application/vnd.jupyter.widget-view+json": {
       "model_id": "a0a969f1c30e40188706e57b6c925724",
       "version_major": 2,
       "version_minor": 0
      },
      "text/plain": [
       "  0%|          | 0/30 [00:00<?, ?it/s]"
      ]
     },
     "metadata": {},
     "output_type": "display_data"
    },
    {
     "data": {
      "application/vnd.jupyter.widget-view+json": {
       "model_id": "5024521757c842a2a0a8c6942600914f",
       "version_major": 2,
       "version_minor": 0
      },
      "text/plain": [
       "  0%|          | 0/30 [00:00<?, ?it/s]"
      ]
     },
     "metadata": {},
     "output_type": "display_data"
    },
    {
     "data": {
      "application/vnd.jupyter.widget-view+json": {
       "model_id": "5810b2ac30934d3eb5d3d2e8601a5a69",
       "version_major": 2,
       "version_minor": 0
      },
      "text/plain": [
       "  0%|          | 0/30 [00:00<?, ?it/s]"
      ]
     },
     "metadata": {},
     "output_type": "display_data"
    },
    {
     "data": {
      "application/vnd.jupyter.widget-view+json": {
       "model_id": "ec091c5cc6214d12a93484c92deb8cf4",
       "version_major": 2,
       "version_minor": 0
      },
      "text/plain": [
       "  0%|          | 0/30 [00:00<?, ?it/s]"
      ]
     },
     "metadata": {},
     "output_type": "display_data"
    },
    {
     "data": {
      "application/vnd.jupyter.widget-view+json": {
       "model_id": "5b1f21f5487e4dabb1e5fcfd22973286",
       "version_major": 2,
       "version_minor": 0
      },
      "text/plain": [
       "  0%|          | 0/30 [00:00<?, ?it/s]"
      ]
     },
     "metadata": {},
     "output_type": "display_data"
    },
    {
     "data": {
      "application/vnd.jupyter.widget-view+json": {
       "model_id": "35707a97c91744a5a90ec7c80581f961",
       "version_major": 2,
       "version_minor": 0
      },
      "text/plain": [
       "  0%|          | 0/30 [00:00<?, ?it/s]"
      ]
     },
     "metadata": {},
     "output_type": "display_data"
    },
    {
     "data": {
      "application/vnd.jupyter.widget-view+json": {
       "model_id": "d0b8404820dc4ac291599bb9c6d7f4a3",
       "version_major": 2,
       "version_minor": 0
      },
      "text/plain": [
       "  0%|          | 0/30 [00:00<?, ?it/s]"
      ]
     },
     "metadata": {},
     "output_type": "display_data"
    },
    {
     "data": {
      "application/vnd.jupyter.widget-view+json": {
       "model_id": "b8392bae724c4822b4dfee33a991dad3",
       "version_major": 2,
       "version_minor": 0
      },
      "text/plain": [
       "  0%|          | 0/30 [00:00<?, ?it/s]"
      ]
     },
     "metadata": {},
     "output_type": "display_data"
    },
    {
     "data": {
      "application/vnd.jupyter.widget-view+json": {
       "model_id": "5535510c173e47688af60ad54bbed733",
       "version_major": 2,
       "version_minor": 0
      },
      "text/plain": [
       "  0%|          | 0/30 [00:00<?, ?it/s]"
      ]
     },
     "metadata": {},
     "output_type": "display_data"
    },
    {
     "data": {
      "application/vnd.jupyter.widget-view+json": {
       "model_id": "febdd27924df46b498cbfc3956175bd4",
       "version_major": 2,
       "version_minor": 0
      },
      "text/plain": [
       "  0%|          | 0/30 [00:00<?, ?it/s]"
      ]
     },
     "metadata": {},
     "output_type": "display_data"
    },
    {
     "data": {
      "application/vnd.jupyter.widget-view+json": {
       "model_id": "f11c22e8fee84a88928c883ca8878e95",
       "version_major": 2,
       "version_minor": 0
      },
      "text/plain": [
       "  0%|          | 0/30 [00:00<?, ?it/s]"
      ]
     },
     "metadata": {},
     "output_type": "display_data"
    },
    {
     "data": {
      "application/vnd.jupyter.widget-view+json": {
       "model_id": "5d942ba661cf45b1b83056c3469c7dae",
       "version_major": 2,
       "version_minor": 0
      },
      "text/plain": [
       "  0%|          | 0/30 [00:00<?, ?it/s]"
      ]
     },
     "metadata": {},
     "output_type": "display_data"
    },
    {
     "data": {
      "application/vnd.jupyter.widget-view+json": {
       "model_id": "c963f05677fc462bbffd43b3271d10b2",
       "version_major": 2,
       "version_minor": 0
      },
      "text/plain": [
       "  0%|          | 0/30 [00:00<?, ?it/s]"
      ]
     },
     "metadata": {},
     "output_type": "display_data"
    },
    {
     "data": {
      "application/vnd.jupyter.widget-view+json": {
       "model_id": "7252cc0fa99941058dcdc2a287f693b2",
       "version_major": 2,
       "version_minor": 0
      },
      "text/plain": [
       "  0%|          | 0/30 [00:00<?, ?it/s]"
      ]
     },
     "metadata": {},
     "output_type": "display_data"
    },
    {
     "data": {
      "application/vnd.jupyter.widget-view+json": {
       "model_id": "06531071394c47a7a6cd290cb5967e35",
       "version_major": 2,
       "version_minor": 0
      },
      "text/plain": [
       "  0%|          | 0/30 [00:00<?, ?it/s]"
      ]
     },
     "metadata": {},
     "output_type": "display_data"
    },
    {
     "data": {
      "application/vnd.jupyter.widget-view+json": {
       "model_id": "bedcf6555300474ebf7741deaa4c1710",
       "version_major": 2,
       "version_minor": 0
      },
      "text/plain": [
       "  0%|          | 0/30 [00:00<?, ?it/s]"
      ]
     },
     "metadata": {},
     "output_type": "display_data"
    },
    {
     "data": {
      "application/vnd.jupyter.widget-view+json": {
       "model_id": "5b6dd0f614a6480aba0ec02c1704b3ae",
       "version_major": 2,
       "version_minor": 0
      },
      "text/plain": [
       "  0%|          | 0/30 [00:00<?, ?it/s]"
      ]
     },
     "metadata": {},
     "output_type": "display_data"
    },
    {
     "data": {
      "application/vnd.jupyter.widget-view+json": {
       "model_id": "d28b7d90a7334e43a01e69c9bf7ccbdc",
       "version_major": 2,
       "version_minor": 0
      },
      "text/plain": [
       "  0%|          | 0/30 [00:00<?, ?it/s]"
      ]
     },
     "metadata": {},
     "output_type": "display_data"
    },
    {
     "data": {
      "application/vnd.jupyter.widget-view+json": {
       "model_id": "d5a631b5fa5f4071a23e23a33a43ad85",
       "version_major": 2,
       "version_minor": 0
      },
      "text/plain": [
       "  0%|          | 0/30 [00:00<?, ?it/s]"
      ]
     },
     "metadata": {},
     "output_type": "display_data"
    },
    {
     "data": {
      "application/vnd.jupyter.widget-view+json": {
       "model_id": "f6c753704a6e44f6a04853d8ca722af2",
       "version_major": 2,
       "version_minor": 0
      },
      "text/plain": [
       "  0%|          | 0/30 [00:00<?, ?it/s]"
      ]
     },
     "metadata": {},
     "output_type": "display_data"
    },
    {
     "data": {
      "application/vnd.jupyter.widget-view+json": {
       "model_id": "6e661ae093c747669a2548d121ace3a2",
       "version_major": 2,
       "version_minor": 0
      },
      "text/plain": [
       "  0%|          | 0/30 [00:00<?, ?it/s]"
      ]
     },
     "metadata": {},
     "output_type": "display_data"
    },
    {
     "data": {
      "application/vnd.jupyter.widget-view+json": {
       "model_id": "97a8032f3ea84d0b983b3ae2c0f413ec",
       "version_major": 2,
       "version_minor": 0
      },
      "text/plain": [
       "  0%|          | 0/30 [00:00<?, ?it/s]"
      ]
     },
     "metadata": {},
     "output_type": "display_data"
    },
    {
     "data": {
      "application/vnd.jupyter.widget-view+json": {
       "model_id": "6f8ed2df6d03418da319410d3dde3cce",
       "version_major": 2,
       "version_minor": 0
      },
      "text/plain": [
       "  0%|          | 0/30 [00:00<?, ?it/s]"
      ]
     },
     "metadata": {},
     "output_type": "display_data"
    },
    {
     "data": {
      "application/vnd.jupyter.widget-view+json": {
       "model_id": "abe619798b174c55940b42b2a9645154",
       "version_major": 2,
       "version_minor": 0
      },
      "text/plain": [
       "  0%|          | 0/30 [00:00<?, ?it/s]"
      ]
     },
     "metadata": {},
     "output_type": "display_data"
    },
    {
     "data": {
      "application/vnd.jupyter.widget-view+json": {
       "model_id": "fb94b16b449847a0835827268da8f486",
       "version_major": 2,
       "version_minor": 0
      },
      "text/plain": [
       "  0%|          | 0/30 [00:00<?, ?it/s]"
      ]
     },
     "metadata": {},
     "output_type": "display_data"
    },
    {
     "data": {
      "application/vnd.jupyter.widget-view+json": {
       "model_id": "59ce21c81d7141edbe76c70319948800",
       "version_major": 2,
       "version_minor": 0
      },
      "text/plain": [
       "  0%|          | 0/30 [00:00<?, ?it/s]"
      ]
     },
     "metadata": {},
     "output_type": "display_data"
    },
    {
     "data": {
      "application/vnd.jupyter.widget-view+json": {
       "model_id": "8c37d57aac694633b44e6f380b7ad4dc",
       "version_major": 2,
       "version_minor": 0
      },
      "text/plain": [
       "  0%|          | 0/30 [00:00<?, ?it/s]"
      ]
     },
     "metadata": {},
     "output_type": "display_data"
    },
    {
     "data": {
      "application/vnd.jupyter.widget-view+json": {
       "model_id": "4c411c10261549bfa426ab5738092ce7",
       "version_major": 2,
       "version_minor": 0
      },
      "text/plain": [
       "  0%|          | 0/30 [00:00<?, ?it/s]"
      ]
     },
     "metadata": {},
     "output_type": "display_data"
    },
    {
     "data": {
      "application/vnd.jupyter.widget-view+json": {
       "model_id": "25b900ee53804c258e7d8117809d18f8",
       "version_major": 2,
       "version_minor": 0
      },
      "text/plain": [
       "  0%|          | 0/30 [00:00<?, ?it/s]"
      ]
     },
     "metadata": {},
     "output_type": "display_data"
    },
    {
     "data": {
      "application/vnd.jupyter.widget-view+json": {
       "model_id": "688808157f74458496f58d248e0b6d02",
       "version_major": 2,
       "version_minor": 0
      },
      "text/plain": [
       "  0%|          | 0/30 [00:00<?, ?it/s]"
      ]
     },
     "metadata": {},
     "output_type": "display_data"
    },
    {
     "data": {
      "application/vnd.jupyter.widget-view+json": {
       "model_id": "54fb6d3bd5c2486593a139542bfac4e9",
       "version_major": 2,
       "version_minor": 0
      },
      "text/plain": [
       "  0%|          | 0/30 [00:00<?, ?it/s]"
      ]
     },
     "metadata": {},
     "output_type": "display_data"
    },
    {
     "data": {
      "application/vnd.jupyter.widget-view+json": {
       "model_id": "05eb835e8e6d4bc0baebfdb739e8f95c",
       "version_major": 2,
       "version_minor": 0
      },
      "text/plain": [
       "  0%|          | 0/30 [00:00<?, ?it/s]"
      ]
     },
     "metadata": {},
     "output_type": "display_data"
    },
    {
     "data": {
      "application/vnd.jupyter.widget-view+json": {
       "model_id": "1b1205ef7a5c449a839c45a4d4128088",
       "version_major": 2,
       "version_minor": 0
      },
      "text/plain": [
       "  0%|          | 0/30 [00:00<?, ?it/s]"
      ]
     },
     "metadata": {},
     "output_type": "display_data"
    },
    {
     "data": {
      "application/vnd.jupyter.widget-view+json": {
       "model_id": "dbf9f0a9830548a3b4600198f222dde8",
       "version_major": 2,
       "version_minor": 0
      },
      "text/plain": [
       "  0%|          | 0/30 [00:00<?, ?it/s]"
      ]
     },
     "metadata": {},
     "output_type": "display_data"
    },
    {
     "data": {
      "application/vnd.jupyter.widget-view+json": {
       "model_id": "cde36f8bfa0046ee81315205bcad1d9c",
       "version_major": 2,
       "version_minor": 0
      },
      "text/plain": [
       "  0%|          | 0/30 [00:00<?, ?it/s]"
      ]
     },
     "metadata": {},
     "output_type": "display_data"
    },
    {
     "data": {
      "application/vnd.jupyter.widget-view+json": {
       "model_id": "1f06a2b38c1344169a23149faca26dca",
       "version_major": 2,
       "version_minor": 0
      },
      "text/plain": [
       "  0%|          | 0/30 [00:00<?, ?it/s]"
      ]
     },
     "metadata": {},
     "output_type": "display_data"
    },
    {
     "data": {
      "application/vnd.jupyter.widget-view+json": {
       "model_id": "e4a583fd424243f8846149847f4b0e1e",
       "version_major": 2,
       "version_minor": 0
      },
      "text/plain": [
       "  0%|          | 0/30 [00:00<?, ?it/s]"
      ]
     },
     "metadata": {},
     "output_type": "display_data"
    },
    {
     "data": {
      "application/vnd.jupyter.widget-view+json": {
       "model_id": "78411bbb0940488ca6704d1d09a74f93",
       "version_major": 2,
       "version_minor": 0
      },
      "text/plain": [
       "  0%|          | 0/30 [00:00<?, ?it/s]"
      ]
     },
     "metadata": {},
     "output_type": "display_data"
    },
    {
     "data": {
      "application/vnd.jupyter.widget-view+json": {
       "model_id": "a7f10d863c9a4ac9a13e7281a27e64c1",
       "version_major": 2,
       "version_minor": 0
      },
      "text/plain": [
       "  0%|          | 0/30 [00:00<?, ?it/s]"
      ]
     },
     "metadata": {},
     "output_type": "display_data"
    },
    {
     "data": {
      "application/vnd.jupyter.widget-view+json": {
       "model_id": "725d277a7085419bbdabe00565f5fd46",
       "version_major": 2,
       "version_minor": 0
      },
      "text/plain": [
       "  0%|          | 0/30 [00:00<?, ?it/s]"
      ]
     },
     "metadata": {},
     "output_type": "display_data"
    },
    {
     "data": {
      "application/vnd.jupyter.widget-view+json": {
       "model_id": "48da9dbfa818402599e093bbdcf52201",
       "version_major": 2,
       "version_minor": 0
      },
      "text/plain": [
       "  0%|          | 0/30 [00:00<?, ?it/s]"
      ]
     },
     "metadata": {},
     "output_type": "display_data"
    },
    {
     "data": {
      "application/vnd.jupyter.widget-view+json": {
       "model_id": "0069c3cf2ba3414b995dd9bda37db3b7",
       "version_major": 2,
       "version_minor": 0
      },
      "text/plain": [
       "  0%|          | 0/30 [00:00<?, ?it/s]"
      ]
     },
     "metadata": {},
     "output_type": "display_data"
    },
    {
     "data": {
      "application/vnd.jupyter.widget-view+json": {
       "model_id": "c76b0708625a41c3906f994db6c28337",
       "version_major": 2,
       "version_minor": 0
      },
      "text/plain": [
       "  0%|          | 0/30 [00:00<?, ?it/s]"
      ]
     },
     "metadata": {},
     "output_type": "display_data"
    },
    {
     "data": {
      "application/vnd.jupyter.widget-view+json": {
       "model_id": "ef53cfee423e44d195e258868f5dc1f8",
       "version_major": 2,
       "version_minor": 0
      },
      "text/plain": [
       "  0%|          | 0/30 [00:00<?, ?it/s]"
      ]
     },
     "metadata": {},
     "output_type": "display_data"
    },
    {
     "data": {
      "application/vnd.jupyter.widget-view+json": {
       "model_id": "7ea1715ea33e424ca620268b889b8630",
       "version_major": 2,
       "version_minor": 0
      },
      "text/plain": [
       "  0%|          | 0/30 [00:00<?, ?it/s]"
      ]
     },
     "metadata": {},
     "output_type": "display_data"
    },
    {
     "data": {
      "application/vnd.jupyter.widget-view+json": {
       "model_id": "ca083a94d8b642a299a4afe1f958f771",
       "version_major": 2,
       "version_minor": 0
      },
      "text/plain": [
       "  0%|          | 0/30 [00:00<?, ?it/s]"
      ]
     },
     "metadata": {},
     "output_type": "display_data"
    },
    {
     "data": {
      "application/vnd.jupyter.widget-view+json": {
       "model_id": "c85d1ff298ce4886935ccf384103db2b",
       "version_major": 2,
       "version_minor": 0
      },
      "text/plain": [
       "  0%|          | 0/30 [00:00<?, ?it/s]"
      ]
     },
     "metadata": {},
     "output_type": "display_data"
    },
    {
     "data": {
      "application/vnd.jupyter.widget-view+json": {
       "model_id": "1547150ab4f0400baf6373498f0d7753",
       "version_major": 2,
       "version_minor": 0
      },
      "text/plain": [
       "  0%|          | 0/30 [00:00<?, ?it/s]"
      ]
     },
     "metadata": {},
     "output_type": "display_data"
    },
    {
     "data": {
      "application/vnd.jupyter.widget-view+json": {
       "model_id": "d974a0079dd846f8a409981e284dde0c",
       "version_major": 2,
       "version_minor": 0
      },
      "text/plain": [
       "  0%|          | 0/30 [00:00<?, ?it/s]"
      ]
     },
     "metadata": {},
     "output_type": "display_data"
    },
    {
     "data": {
      "application/vnd.jupyter.widget-view+json": {
       "model_id": "0c45851134424f6e9bf7f7e946118086",
       "version_major": 2,
       "version_minor": 0
      },
      "text/plain": [
       "  0%|          | 0/30 [00:00<?, ?it/s]"
      ]
     },
     "metadata": {},
     "output_type": "display_data"
    },
    {
     "name": "stdout",
     "output_type": "stream",
     "text": [
      "    Fold       MAE      RMSE        R2    ROI(%)    Sharpe  MaxDrawdown  \\\n",
      "0      1  3.595803  3.743200 -8.138286  1.804730  0.118903    -0.015075   \n",
      "1      2  1.092367  1.221072 -0.452257 -0.411999 -0.041715    -0.012352   \n",
      "2      3  0.678227  0.808141  0.255584  3.430450  0.183989    -0.022273   \n",
      "3      4  1.252023  1.474434 -0.685046  0.871281  0.081473    -0.016745   \n",
      "4      5  2.148042  2.254892 -3.385017  7.848365  0.529910    -0.002124   \n",
      "..   ...       ...       ...       ...       ...       ...          ...   \n",
      "65    66  0.434450  0.509334  0.344844  2.825929  0.455281    -0.002325   \n",
      "66    67  0.383328  0.457270 -0.071473  0.545166  0.096643    -0.008964   \n",
      "67    68  1.305765  1.468418 -1.051098  1.381993  0.178923    -0.008549   \n",
      "68    69  2.129300  2.234427 -1.481642  4.371227  0.550077    -0.002194   \n",
      "69    70  2.686331  2.870701 -6.735929  2.194599  0.424142    -0.000428   \n",
      "\n",
      "    DirAcc(%)  \n",
      "0   31.034483  \n",
      "1   48.275862  \n",
      "2   62.068966  \n",
      "3   55.172414  \n",
      "4   75.862069  \n",
      "..        ...  \n",
      "65  65.517241  \n",
      "66  48.275862  \n",
      "67  55.172414  \n",
      "68  65.517241  \n",
      "69  58.620690  \n",
      "\n",
      "[70 rows x 8 columns]\n",
      "\n",
      "Average performance across folds:\n",
      "Fold           35.500000\n",
      "MAE             1.229207\n",
      "RMSE            1.424989\n",
      "R2             -2.493473\n",
      "ROI(%)          2.395935\n",
      "Sharpe          0.213261\n",
      "MaxDrawdown    -0.010651\n",
      "DirAcc(%)      55.714286\n",
      "dtype: float64\n"
     ]
    },
    {
     "data": {
      "image/png": "[encoded data removed]",
      "text/plain": [
       "<Figure size 1000x600 with 1 Axes>"
      ]
     },
     "metadata": {},
     "output_type": "display_data"
    },
    {
     "data": {
      "image/png": "[encoded data removed]",
      "text/plain": [
       "<Figure size 800x550 with 2 Axes>"
      ]
     },
     "metadata": {},
     "output_type": "display_data"
    }
   ],
   "source": [
    "import numpy as np\n",
    "import pandas as pd\n",
    "import matplotlib.pyplot as plt\n",
    "import shap\n",
    "from sklearn.neighbors import KNeighborsRegressor\n",
    "from sklearn.metrics import mean_absolute_error, mean_squared_error, r2_score\n",
    "\n",
    "# === Prepare Data ===\n",
    "# df = jpy_inr.copy().dropna().reset_index(drop=True)\n",
    "\n",
    "features = [\n",
    "    'EMA_100', 'EMA_200', 'EMA_50',\n",
    "    'RSI', 'MACD', 'Signal_Line', 'MACD_Histogram',\n",
    "    'SMA', 'Upper Band', 'Lower Band'\n",
    "]\n",
    "target = 'Closing_price'\n",
    "\n",
    "X = df[features].values\n",
    "y = df[target].values\n",
    "\n",
    "# === Walk-forward parameters ===\n",
    "train_window = 500\n",
    "test_window = 30\n",
    "\n",
    "knn = KNeighborsRegressor(n_neighbors=5)\n",
    "\n",
    "all_preds, all_actuals, all_idx = [], [], []\n",
    "all_feature_importance, all_metrics = [], []\n",
    "\n",
    "def directional_accuracy(actual, predicted):\n",
    "    actual_diff = np.diff(actual)\n",
    "    pred_diff = np.diff(predicted)\n",
    "    return np.mean(np.sign(actual_diff) == np.sign(pred_diff)) * 100\n",
    "\n",
    "for fold, start in enumerate(range(0, len(X) - train_window - test_window, test_window), 1):\n",
    "    end = start + train_window\n",
    "    X_train, y_train = X[start:end], y[start:end]\n",
    "    X_test, y_test = X[end:end+test_window], y[end:end+test_window]\n",
    "\n",
    "    # Fit model\n",
    "    knn.fit(X_train, y_train)\n",
    "    y_pred = knn.predict(X_test)\n",
    "\n",
    "    all_preds.extend(y_pred)\n",
    "    all_actuals.extend(y_test)\n",
    "    all_idx.extend(range(end, end+test_window))\n",
    "\n",
    "    # --- SHAP (KernelExplainer) ---\n",
    "    background = shap.sample(X_train, 100)  # subset for speed\n",
    "    explainer = shap.KernelExplainer(knn.predict, background)\n",
    "    shap_values = explainer.shap_values(X_test, nsamples=100)\n",
    "\n",
    "    mean_abs_shap = np.abs(shap_values).mean(axis=0)\n",
    "    all_feature_importance.append(mean_abs_shap)\n",
    "\n",
    "    # --- Metrics ---\n",
    "    mae = mean_absolute_error(y_test, y_pred)\n",
    "    rmse = np.sqrt(mean_squared_error(y_test, y_pred))\n",
    "    r2 = r2_score(y_test, y_pred)\n",
    "\n",
    "    # Predicted vs actual returns\n",
    "    pred_returns = pd.Series(y_pred, index=range(end, end+test_window)).pct_change().fillna(0)\n",
    "    actual_returns = pd.Series(y_test, index=range(end, end+test_window)).pct_change().fillna(0)\n",
    "\n",
    "    # Strategy: long if pred_return > 0\n",
    "    strategy_returns = np.where(pred_returns > 0, actual_returns, 0)\n",
    "    strategy_returns = pd.Series(strategy_returns, index=range(end, end+test_window))\n",
    "\n",
    "    roi = strategy_returns.sum() * 100\n",
    "    sharpe = (strategy_returns.mean() / strategy_returns.std()) if strategy_returns.std() != 0 else 0\n",
    "    cumulative = (1 + strategy_returns).cumprod()\n",
    "    drawdown = (cumulative - cumulative.cummax()) / cumulative.cummax()\n",
    "    max_dd = drawdown.min()\n",
    "\n",
    "    da = directional_accuracy(y_test, y_pred)\n",
    "\n",
    "    all_metrics.append([fold, mae, rmse, r2, roi, sharpe, max_dd, da])\n",
    "\n",
    "# === Collect metrics into DataFrame ===\n",
    "metrics_df = pd.DataFrame(all_metrics, columns=[\n",
    "    'Fold', 'MAE', 'RMSE', 'R2', 'ROI(%)', 'Sharpe', 'MaxDrawdown', 'DirAcc(%)'\n",
    "])\n",
    "print(metrics_df)\n",
    "print(\"\\nAverage performance across folds:\")\n",
    "print(metrics_df.mean())\n",
    "\n",
    "# === Average SHAP importance ===\n",
    "all_feature_importance = np.array(all_feature_importance)\n",
    "mean_importance = all_feature_importance.mean(axis=0)\n",
    "sorted_idx = np.argsort(mean_importance)[::-1]\n",
    "\n",
    "plt.figure(figsize=(10,6))\n",
    "plt.bar(range(len(features)), mean_importance[sorted_idx])\n",
    "plt.xticks(range(len(features)), np.array(features)[sorted_idx], rotation=45)\n",
    "plt.title(\"KNN - Average SHAP Feature Importance (Rolling Walk-Forward)\")\n",
    "plt.show()\n",
    "\n",
    "# === SHAP Beeswarm for last window ===\n",
    "shap.summary_plot(shap_values, X_test, feature_names=features)\n"
   ]
  },
  {
   "cell_type": "markdown",
   "id": "d9fff8d2",
   "metadata": {},
   "source": [
    "## Catboost"
   ]
  },
  {
   "cell_type": "code",
   "execution_count": 16,
   "id": "ec102041",
   "metadata": {},
   "outputs": [
    {
     "name": "stdout",
     "output_type": "stream",
     "text": [
      "    Fold       MAE      RMSE        R2    ROI(%)    Sharpe  MaxDrawdown  \\\n",
      "0      1  3.905446  4.067441 -9.789997  3.959344  0.205416    -0.015509   \n",
      "1      2  1.160702  1.405860 -0.925064  0.525796  0.051414    -0.016972   \n",
      "2      3  0.454647  0.559464  0.643232  5.784286  0.305081    -0.009288   \n",
      "3      4  0.805191  0.936821  0.319740  0.429636  0.037686    -0.015307   \n",
      "4      5  1.656762  1.728223 -1.575841  7.044947  0.461696    -0.004980   \n",
      "..   ...       ...       ...       ...       ...       ...          ...   \n",
      "65    66  0.242893  0.283186  0.797473  2.692290  0.339425    -0.005112   \n",
      "66    67  0.413032  0.491665 -0.238724  2.181531  0.472771    -0.000537   \n",
      "67    68  1.049651  1.168108 -0.297936  3.313217  0.459013    -0.004089   \n",
      "68    69  1.690561  1.832426 -0.669014  5.032657  0.611295    -0.002575   \n",
      "69    70  1.876363  1.935491 -2.516568  2.570202  0.439410    -0.001948   \n",
      "\n",
      "    DirAcc(%)  \n",
      "0   58.620690  \n",
      "1   68.965517  \n",
      "2   82.758621  \n",
      "3   65.517241  \n",
      "4   82.758621  \n",
      "..        ...  \n",
      "65  68.965517  \n",
      "66  68.965517  \n",
      "67  65.517241  \n",
      "68  75.862069  \n",
      "69  72.413793  \n",
      "\n",
      "[70 rows x 8 columns]\n",
      "\n",
      "Average performance across folds:\n",
      "Fold           35.500000\n",
      "MAE             0.915282\n",
      "RMSE            1.040312\n",
      "R2             -0.906790\n",
      "ROI(%)          4.005092\n",
      "Sharpe          0.391589\n",
      "MaxDrawdown    -0.006462\n",
      "DirAcc(%)      72.364532\n",
      "dtype: float64\n"
     ]
    },
    {
     "data": {
      "image/png": "[encoded data removed]",
      "text/plain": [
       "<Figure size 1000x600 with 1 Axes>"
      ]
     },
     "metadata": {},
     "output_type": "display_data"
    }
   ],
   "source": [
    "import numpy as np\n",
    "import pandas as pd\n",
    "import matplotlib.pyplot as plt\n",
    "from catboost import CatBoostRegressor, Pool\n",
    "from sklearn.metrics import mean_absolute_error, mean_squared_error, r2_score\n",
    "\n",
    "# === Prepare Data ===\n",
    "# df = jpy_inr.copy().dropna().reset_index(drop=True)\n",
    "\n",
    "features = [\n",
    "    'EMA_100', 'EMA_200', 'EMA_50',\n",
    "    'RSI', 'MACD', 'Signal_Line', 'MACD_Histogram',\n",
    "    'SMA', 'Upper Band', 'Lower Band'\n",
    "]\n",
    "target = 'Closing_price'\n",
    "\n",
    "X = df[features].values\n",
    "y = df[target].values\n",
    "\n",
    "# === Walk-forward parameters ===\n",
    "train_window = 500\n",
    "test_window = 30\n",
    "\n",
    "cat = CatBoostRegressor(\n",
    "    iterations=300,\n",
    "    depth=6,\n",
    "    learning_rate=0.05,\n",
    "    loss_function='RMSE',\n",
    "    verbose=0,\n",
    "    random_seed=42\n",
    ")\n",
    "\n",
    "all_preds, all_actuals, all_idx = [], [], []\n",
    "all_shap_importance, all_metrics = [], []\n",
    "\n",
    "def directional_accuracy(actual, predicted):\n",
    "    actual_diff = np.diff(actual)\n",
    "    pred_diff = np.diff(predicted)\n",
    "    return np.mean(np.sign(actual_diff) == np.sign(pred_diff)) * 100\n",
    "\n",
    "for fold, start in enumerate(range(0, len(X) - train_window - test_window, test_window), 1):\n",
    "    end = start + train_window\n",
    "    X_train, y_train = X[start:end], y[start:end]\n",
    "    X_test, y_test = X[end:end+test_window], y[end:end+test_window]\n",
    "\n",
    "    # Wrap into CatBoost Pool\n",
    "    train_pool = Pool(X_train, y_train, feature_names=features)\n",
    "    test_pool = Pool(X_test, y_test, feature_names=features)\n",
    "\n",
    "    # Fit model\n",
    "    cat.fit(train_pool)\n",
    "    y_pred = cat.predict(test_pool)\n",
    "\n",
    "    all_preds.extend(y_pred)\n",
    "    all_actuals.extend(y_test)\n",
    "    all_idx.extend(range(end, end+test_window))\n",
    "\n",
    "    # --- SHAP values from CatBoost ---\n",
    "    shap_values = cat.get_feature_importance(type=\"ShapValues\", data=test_pool)\n",
    "    # Last column of shap_values is expected_value, drop it\n",
    "    shap_contribs = shap_values[:, :-1]\n",
    "    mean_abs_shap = np.abs(shap_contribs).mean(axis=0)\n",
    "    all_shap_importance.append(mean_abs_shap)\n",
    "\n",
    "    # --- Metrics ---\n",
    "    mae = mean_absolute_error(y_test, y_pred)\n",
    "    rmse = np.sqrt(mean_squared_error(y_test, y_pred))\n",
    "    r2 = r2_score(y_test, y_pred)\n",
    "\n",
    "    pred_returns = pd.Series(y_pred, index=range(end, end+test_window)).pct_change().fillna(0)\n",
    "    actual_returns = pd.Series(y_test, index=range(end, end+test_window)).pct_change().fillna(0)\n",
    "\n",
    "    strategy_returns = np.where(pred_returns > 0, actual_returns, 0)\n",
    "    strategy_returns = pd.Series(strategy_returns, index=range(end, end+test_window))\n",
    "\n",
    "    roi = strategy_returns.sum() * 100\n",
    "    sharpe = (strategy_returns.mean() / strategy_returns.std()) if strategy_returns.std() != 0 else 0\n",
    "    cumulative = (1 + strategy_returns).cumprod()\n",
    "    drawdown = (cumulative - cumulative.cummax()) / cumulative.cummax()\n",
    "    max_dd = drawdown.min()\n",
    "\n",
    "    da = directional_accuracy(y_test, y_pred)\n",
    "\n",
    "    all_metrics.append([fold, mae, rmse, r2, roi, sharpe, max_dd, da])\n",
    "\n",
    "# === Collect metrics ===\n",
    "metrics_df = pd.DataFrame(all_metrics, columns=[\n",
    "    'Fold', 'MAE', 'RMSE', 'R2', 'ROI(%)', 'Sharpe', 'MaxDrawdown', 'DirAcc(%)'\n",
    "])\n",
    "print(metrics_df)\n",
    "print(\"\\nAverage performance across folds:\")\n",
    "print(metrics_df.mean())\n",
    "\n",
    "# === SHAP importance (average) ===\n",
    "all_shap_importance = np.array(all_shap_importance)\n",
    "mean_importance = all_shap_importance.mean(axis=0)\n",
    "sorted_idx = np.argsort(mean_importance)[::-1]\n",
    "\n",
    "plt.figure(figsize=(10,6))\n",
    "plt.bar(range(len(features)), mean_importance[sorted_idx])\n",
    "plt.xticks(range(len(features)), np.array(features)[sorted_idx], rotation=45)\n",
    "plt.title(\"CatBoost - Average SHAP Feature Importance (Rolling Walk-Forward)\")\n",
    "plt.show()\n"
   ]
  },
  {
   "cell_type": "code",
   "execution_count": null,
   "id": "bfef7833",
   "metadata": {},
   "outputs": [],
   "source": []
  }
 ],
 "metadata": {
  "kernelspec": {
   "display_name": "base",
   "language": "python",
   "name": "python3"
  },
  "language_info": {
   "codemirror_mode": {
    "name": "ipython",
    "version": 3
   },
   "file_extension": ".py",
   "mimetype": "text/x-python",
   "name": "python",
   "nbconvert_exporter": "python",
   "pygments_lexer": "ipython3",
   "version": "3.11.5"
  }
 },
 "nbformat": 4,
 "nbformat_minor": 5
}
